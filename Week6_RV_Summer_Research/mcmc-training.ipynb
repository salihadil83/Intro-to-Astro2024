{
 "cells": [
  {
   "cell_type": "markdown",
   "id": "d87c40c0-7cdb-4725-a111-5c58f29f3e6e",
   "metadata": {},
   "source": [
    "# MCMC Training"
   ]
  },
  {
   "cell_type": "code",
   "execution_count": null,
   "id": "baab620f-7e9b-47e3-bc35-efcca86b01dc",
   "metadata": {},
   "outputs": [],
   "source": [
    "## MCMC is "
   ]
  }
 ],
 "metadata": {
  "kernelspec": {
   "display_name": "Python 3 (ipykernel)",
   "language": "python",
   "name": "python3"
  },
  "language_info": {
   "codemirror_mode": {
    "name": "ipython",
    "version": 3
   },
   "file_extension": ".py",
   "mimetype": "text/x-python",
   "name": "python",
   "nbconvert_exporter": "python",
   "pygments_lexer": "ipython3",
   "version": "3.12.4"
  }
 },
 "nbformat": 4,
 "nbformat_minor": 5
}
